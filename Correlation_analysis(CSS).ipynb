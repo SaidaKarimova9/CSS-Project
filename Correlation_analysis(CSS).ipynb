{
  "nbformat": 4,
  "nbformat_minor": 0,
  "metadata": {
    "colab": {
      "provenance": []
    },
    "kernelspec": {
      "name": "python3",
      "display_name": "Python 3"
    },
    "language_info": {
      "name": "python"
    }
  },
  "cells": [
    {
      "cell_type": "markdown",
      "source": [
        "To ensure accurate results, I made the decision to manually input the data into the code. Since the dataset was small, it didn't cause any issues.\n",
        "\n",
        "To begin with, I will analyze the relationship between the number of Netflix subscribers and TV viewers in Italy. Following that, I will examine the correlation between Netflix revenue and TV viewership in Italy. Although the dataset is small, we can make preliminary predictions about the results even before conducting the correlation analysis. However, I chose to perform a correlation analysis as part of the statistical analysis process. This decision is motivated by the fact that accurately predicting the correlation for larger datasets in the future is not possible without performing analysis. Therefore, using correlation analysis becomes essential to ensure clear and reliable outcomes."
      ],
      "metadata": {
        "id": "gRMlhaZ7KRBz"
      }
    },
    {
      "cell_type": "code",
      "source": [
        "import pandas as pd\n",
        "from scipy.stats import pearsonr\n",
        "\n",
        "# The TV viewers data\n",
        "tv_viewers_data = {\n",
        "    'Years': [2017, 2018, 2019, 2020, 2021, 2022],\n",
        "    '3-5 years': [94.3, 92, 88.3, 87.7, 86.5, 83.7],\n",
        "    '6-10 years': [93.1, 90.2, 87.2, 90.8, 85.4, 85.1],\n",
        "    '11-14 years': [87.7, 81.3, 77.3, 77.1, 75.3, 70.8],\n",
        "    '15-17 years': [77.9, 69.6, 67.5, 65, 63.7, 57.5],\n",
        "    '18-19 years': [73.3, 66.8, 61.4, 67, 62, 54.8],\n",
        "    '20-24 years': [72.7, 63.9, 61.7, 61.2, 60.6, 51.8],\n",
        "    '25-34 years': [75.5, 72.1, 68.5, 68.1, 67.9, 66.4],\n",
        "    '35-44 years': [81.5, 75.2, 72.9, 73.8, 74.8, 69.6],\n",
        "    '45-54 years': [85.5, 80, 77.5, 79.1, 79.7, 76],\n",
        "    '55-59 years': [89.4, 84.7, 82, 83.1, 85.1, 80.2],\n",
        "    '60-64 years': [91.9, 88, 87.5, 88.1, 88.2, 86],\n",
        "    '65-74 years': [95.4, 91.9, 91.9, 92, 91.5, 90],\n",
        "    '75 years and over': [94.9, 92.5, 91.2, 90.4, 92.2, 92.3]\n",
        "}\n",
        "\n",
        "tv_viewers_df = pd.DataFrame(tv_viewers_data)\n",
        "\n",
        "#Netflix subscribers data\n",
        "netflix_subscribers_data = {\n",
        "    'Years': [2017, 2018, 2019, 2020, 2021, 2022],\n",
        "    'Netflix Subscribers (mln)': [0.7, 1.4, 2, 3.9, 4.2, 5.4]\n",
        "}\n",
        "\n",
        "netflix_subscribers_df = pd.DataFrame(netflix_subscribers_data)\n",
        "\n",
        "# Merge the TV viewers and Netflix subscribers dataframes\n",
        "df = pd.merge(tv_viewers_df, netflix_subscribers_df, on='Years')\n",
        "\n",
        "# Calculate the correlation for each age group\n",
        "age_groups = df.columns[1:-1]\n",
        "correlations = {}\n",
        "\n",
        "for age_group in age_groups:\n",
        "    correlation, _ = pearsonr(df[age_group], df['Netflix Subscribers (mln)'])\n",
        "    correlations[age_group] = correlation\n",
        "\n",
        "# Print the correlations\n",
        "for age_group, correlation in correlations.items():\n",
        "    print(f\"Correlation coefficient for {age_group}: {correlation}\")\n"
      ],
      "metadata": {
        "colab": {
          "base_uri": "https://localhost:8080/"
        },
        "id": "OEo44D_nKlCJ",
        "outputId": "87a2abd1-89d5-407d-8718-86afce7d686c"
      },
      "execution_count": 1,
      "outputs": [
        {
          "output_type": "stream",
          "name": "stdout",
          "text": [
            "Correlation coefficient for 3-5 years: -0.9478484690868378\n",
            "Correlation coefficient for 6-10 years: -0.7347104590938868\n",
            "Correlation coefficient for 11-14 years: -0.9129616359781187\n",
            "Correlation coefficient for 15-17 years: -0.9359186498906249\n",
            "Correlation coefficient for 18-19 years: -0.7779464625462325\n",
            "Correlation coefficient for 20-24 years: -0.8816219778932152\n",
            "Correlation coefficient for 25-34 years: -0.8831634851448391\n",
            "Correlation coefficient for 35-44 years: -0.7688582019877661\n",
            "Correlation coefficient for 45-54 years: -0.7080198168200367\n",
            "Correlation coefficient for 55-59 years: -0.6929300419471925\n",
            "Correlation coefficient for 60-64 years: -0.7166850935654481\n",
            "Correlation coefficient for 65-74 years: -0.7931147023177474\n",
            "Correlation coefficient for 75 years and over: -0.5041902559928758\n"
          ]
        }
      ]
    },
    {
      "cell_type": "code",
      "source": [
        "#Netflix revenue data\n",
        "netflix_revenue_data = {\n",
        "    'Years': [2017, 2018, 2019, 2020, 2021, 2022],\n",
        "    'Netflix Revenue (mln)': [70.1, 119.67, 169.94, 222.14, 240.13, 259.82]\n",
        "}\n",
        "\n",
        "netflix_revenue_df = pd.DataFrame(netflix_revenue_data)\n",
        "\n",
        "# Calculate correlation coefficients for each age group\n",
        "correlation_coefficients = {}\n",
        "for column in tv_viewers_df.columns[1:]:\n",
        "    correlation, _ = pearsonr(tv_viewers_df[column], netflix_revenue_df['Netflix Revenue (mln)'])\n",
        "    correlation_coefficients[column] = correlation\n",
        "\n",
        "# Display correlation coefficients\n",
        "for age_group, correlation in correlation_coefficients.items():\n",
        "    print(f\"Correlation coefficient for {age_group}: {correlation}\")\n"
      ],
      "metadata": {
        "colab": {
          "base_uri": "https://localhost:8080/"
        },
        "id": "a6HIuRtIOUWh",
        "outputId": "473eab6c-2571-428c-9e0c-bfefac166618"
      },
      "execution_count": 7,
      "outputs": [
        {
          "output_type": "stream",
          "name": "stdout",
          "text": [
            "Correlation coefficient for 3-5 years: -0.9738893598534737\n",
            "Correlation coefficient for 6-10 years: -0.7976671107503059\n",
            "Correlation coefficient for 11-14 years: -0.9531313680710716\n",
            "Correlation coefficient for 15-17 years: -0.951346782568494\n",
            "Correlation coefficient for 18-19 years: -0.8093126029109199\n",
            "Correlation coefficient for 20-24 years: -0.8913281954169912\n",
            "Correlation coefficient for 25-34 years: -0.9601437121854177\n",
            "Correlation coefficient for 35-44 years: -0.8247413212310357\n",
            "Correlation coefficient for 45-54 years: -0.7920007212660682\n",
            "Correlation coefficient for 55-59 years: -0.758059505020021\n",
            "Correlation coefficient for 60-64 years: -0.7833444013231486\n",
            "Correlation coefficient for 65-74 years: -0.8444440288283632\n",
            "Correlation coefficient for 75 years and over: -0.6585344257187009\n"
          ]
        }
      ]
    }
  ]
}