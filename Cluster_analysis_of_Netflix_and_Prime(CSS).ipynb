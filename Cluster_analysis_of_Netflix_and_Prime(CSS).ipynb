{
  "nbformat": 4,
  "nbformat_minor": 0,
  "metadata": {
    "colab": {
      "provenance": []
    },
    "kernelspec": {
      "name": "python3",
      "display_name": "Python 3"
    },
    "language_info": {
      "name": "python"
    }
  },
  "cells": [
    {
      "cell_type": "code",
      "execution_count": 1,
      "metadata": {
        "colab": {
          "base_uri": "https://localhost:8080/"
        },
        "id": "mPH3gHDHfoCb",
        "outputId": "66686f82-b906-444b-fdbf-1bb33edcc81f"
      },
      "outputs": [
        {
          "output_type": "stream",
          "name": "stdout",
          "text": [
            "Mounted at /content/drive\n"
          ]
        }
      ],
      "source": [
        "from google.colab import drive\n",
        "drive.mount('/content/drive')\n"
      ]
    },
    {
      "cell_type": "code",
      "source": [
        "import pandas as pd\n",
        "from sklearn.feature_extraction.text import TfidfVectorizer\n",
        "from sklearn.cluster import KMeans\n"
      ],
      "metadata": {
        "id": "KAPRf6Hnp2Z4"
      },
      "execution_count": 14,
      "outputs": []
    },
    {
      "cell_type": "code",
      "source": [
        "netflix_data = pd.read_csv('/content/drive/MyDrive/CSS_final/netdatanew (1).csv')\n",
        "prime_data = pd.read_excel('/content/drive/MyDrive/CSS_final/amazondatanew (1).xlsx')\n"
      ],
      "metadata": {
        "id": "5MlHJojEp5_P"
      },
      "execution_count": 16,
      "outputs": []
    },
    {
      "cell_type": "code",
      "source": [
        "vectorizer = TfidfVectorizer()\n",
        "#To convert genre column to the numerical\n"
      ],
      "metadata": {
        "id": "xCeh66h8qRTy"
      },
      "execution_count": 27,
      "outputs": []
    },
    {
      "cell_type": "code",
      "source": [
        "netflix_genres = vectorizer.fit_transform(netflix_data['Genre'].astype(str))\n",
        "prime_genres = vectorizer.transform(prime_data['Genre'].astype(str))\n",
        "\n"
      ],
      "metadata": {
        "id": "-rg_T6jZqefc"
      },
      "execution_count": 28,
      "outputs": []
    },
    {
      "cell_type": "code",
      "source": [
        "kmeans_netflix = KMeans(n_clusters=10)\n",
        "kmeans_netflix.fit(netflix_genres)\n",
        "\n"
      ],
      "metadata": {
        "colab": {
          "base_uri": "https://localhost:8080/",
          "height": 129
        },
        "id": "cIB3d0jGqjd4",
        "outputId": "436eead8-14f5-4aa2-e9d4-3338321d16fb"
      },
      "execution_count": 29,
      "outputs": [
        {
          "output_type": "stream",
          "name": "stderr",
          "text": [
            "/usr/local/lib/python3.10/dist-packages/sklearn/cluster/_kmeans.py:870: FutureWarning: The default value of `n_init` will change from 10 to 'auto' in 1.4. Set the value of `n_init` explicitly to suppress the warning\n",
            "  warnings.warn(\n"
          ]
        },
        {
          "output_type": "execute_result",
          "data": {
            "text/plain": [
              "KMeans(n_clusters=10)"
            ],
            "text/html": [
              "<style>#sk-container-id-4 {color: black;background-color: white;}#sk-container-id-4 pre{padding: 0;}#sk-container-id-4 div.sk-toggleable {background-color: white;}#sk-container-id-4 label.sk-toggleable__label {cursor: pointer;display: block;width: 100%;margin-bottom: 0;padding: 0.3em;box-sizing: border-box;text-align: center;}#sk-container-id-4 label.sk-toggleable__label-arrow:before {content: \"▸\";float: left;margin-right: 0.25em;color: #696969;}#sk-container-id-4 label.sk-toggleable__label-arrow:hover:before {color: black;}#sk-container-id-4 div.sk-estimator:hover label.sk-toggleable__label-arrow:before {color: black;}#sk-container-id-4 div.sk-toggleable__content {max-height: 0;max-width: 0;overflow: hidden;text-align: left;background-color: #f0f8ff;}#sk-container-id-4 div.sk-toggleable__content pre {margin: 0.2em;color: black;border-radius: 0.25em;background-color: #f0f8ff;}#sk-container-id-4 input.sk-toggleable__control:checked~div.sk-toggleable__content {max-height: 200px;max-width: 100%;overflow: auto;}#sk-container-id-4 input.sk-toggleable__control:checked~label.sk-toggleable__label-arrow:before {content: \"▾\";}#sk-container-id-4 div.sk-estimator input.sk-toggleable__control:checked~label.sk-toggleable__label {background-color: #d4ebff;}#sk-container-id-4 div.sk-label input.sk-toggleable__control:checked~label.sk-toggleable__label {background-color: #d4ebff;}#sk-container-id-4 input.sk-hidden--visually {border: 0;clip: rect(1px 1px 1px 1px);clip: rect(1px, 1px, 1px, 1px);height: 1px;margin: -1px;overflow: hidden;padding: 0;position: absolute;width: 1px;}#sk-container-id-4 div.sk-estimator {font-family: monospace;background-color: #f0f8ff;border: 1px dotted black;border-radius: 0.25em;box-sizing: border-box;margin-bottom: 0.5em;}#sk-container-id-4 div.sk-estimator:hover {background-color: #d4ebff;}#sk-container-id-4 div.sk-parallel-item::after {content: \"\";width: 100%;border-bottom: 1px solid gray;flex-grow: 1;}#sk-container-id-4 div.sk-label:hover label.sk-toggleable__label {background-color: #d4ebff;}#sk-container-id-4 div.sk-serial::before {content: \"\";position: absolute;border-left: 1px solid gray;box-sizing: border-box;top: 0;bottom: 0;left: 50%;z-index: 0;}#sk-container-id-4 div.sk-serial {display: flex;flex-direction: column;align-items: center;background-color: white;padding-right: 0.2em;padding-left: 0.2em;position: relative;}#sk-container-id-4 div.sk-item {position: relative;z-index: 1;}#sk-container-id-4 div.sk-parallel {display: flex;align-items: stretch;justify-content: center;background-color: white;position: relative;}#sk-container-id-4 div.sk-item::before, #sk-container-id-4 div.sk-parallel-item::before {content: \"\";position: absolute;border-left: 1px solid gray;box-sizing: border-box;top: 0;bottom: 0;left: 50%;z-index: -1;}#sk-container-id-4 div.sk-parallel-item {display: flex;flex-direction: column;z-index: 1;position: relative;background-color: white;}#sk-container-id-4 div.sk-parallel-item:first-child::after {align-self: flex-end;width: 50%;}#sk-container-id-4 div.sk-parallel-item:last-child::after {align-self: flex-start;width: 50%;}#sk-container-id-4 div.sk-parallel-item:only-child::after {width: 0;}#sk-container-id-4 div.sk-dashed-wrapped {border: 1px dashed gray;margin: 0 0.4em 0.5em 0.4em;box-sizing: border-box;padding-bottom: 0.4em;background-color: white;}#sk-container-id-4 div.sk-label label {font-family: monospace;font-weight: bold;display: inline-block;line-height: 1.2em;}#sk-container-id-4 div.sk-label-container {text-align: center;}#sk-container-id-4 div.sk-container {/* jupyter's `normalize.less` sets `[hidden] { display: none; }` but bootstrap.min.css set `[hidden] { display: none !important; }` so we also need the `!important` here to be able to override the default hidden behavior on the sphinx rendered scikit-learn.org. See: https://github.com/scikit-learn/scikit-learn/issues/21755 */display: inline-block !important;position: relative;}#sk-container-id-4 div.sk-text-repr-fallback {display: none;}</style><div id=\"sk-container-id-4\" class=\"sk-top-container\"><div class=\"sk-text-repr-fallback\"><pre>KMeans(n_clusters=10)</pre><b>In a Jupyter environment, please rerun this cell to show the HTML representation or trust the notebook. <br />On GitHub, the HTML representation is unable to render, please try loading this page with nbviewer.org.</b></div><div class=\"sk-container\" hidden><div class=\"sk-item\"><div class=\"sk-estimator sk-toggleable\"><input class=\"sk-toggleable__control sk-hidden--visually\" id=\"sk-estimator-id-4\" type=\"checkbox\" checked><label for=\"sk-estimator-id-4\" class=\"sk-toggleable__label sk-toggleable__label-arrow\">KMeans</label><div class=\"sk-toggleable__content\"><pre>KMeans(n_clusters=10)</pre></div></div></div></div></div>"
            ]
          },
          "metadata": {},
          "execution_count": 29
        }
      ]
    },
    {
      "cell_type": "code",
      "source": [
        "kmeans_prime = KMeans(n_clusters=10)\n",
        "kmeans_prime.fit(prime_genres)\n"
      ],
      "metadata": {
        "colab": {
          "base_uri": "https://localhost:8080/",
          "height": 74
        },
        "id": "unbyC68LrSLM",
        "outputId": "63b0343d-aa98-4256-de51-d1b2579b14be"
      },
      "execution_count": 31,
      "outputs": [
        {
          "output_type": "execute_result",
          "data": {
            "text/plain": [
              "KMeans(n_clusters=10)"
            ],
            "text/html": [
              "<style>#sk-container-id-5 {color: black;background-color: white;}#sk-container-id-5 pre{padding: 0;}#sk-container-id-5 div.sk-toggleable {background-color: white;}#sk-container-id-5 label.sk-toggleable__label {cursor: pointer;display: block;width: 100%;margin-bottom: 0;padding: 0.3em;box-sizing: border-box;text-align: center;}#sk-container-id-5 label.sk-toggleable__label-arrow:before {content: \"▸\";float: left;margin-right: 0.25em;color: #696969;}#sk-container-id-5 label.sk-toggleable__label-arrow:hover:before {color: black;}#sk-container-id-5 div.sk-estimator:hover label.sk-toggleable__label-arrow:before {color: black;}#sk-container-id-5 div.sk-toggleable__content {max-height: 0;max-width: 0;overflow: hidden;text-align: left;background-color: #f0f8ff;}#sk-container-id-5 div.sk-toggleable__content pre {margin: 0.2em;color: black;border-radius: 0.25em;background-color: #f0f8ff;}#sk-container-id-5 input.sk-toggleable__control:checked~div.sk-toggleable__content {max-height: 200px;max-width: 100%;overflow: auto;}#sk-container-id-5 input.sk-toggleable__control:checked~label.sk-toggleable__label-arrow:before {content: \"▾\";}#sk-container-id-5 div.sk-estimator input.sk-toggleable__control:checked~label.sk-toggleable__label {background-color: #d4ebff;}#sk-container-id-5 div.sk-label input.sk-toggleable__control:checked~label.sk-toggleable__label {background-color: #d4ebff;}#sk-container-id-5 input.sk-hidden--visually {border: 0;clip: rect(1px 1px 1px 1px);clip: rect(1px, 1px, 1px, 1px);height: 1px;margin: -1px;overflow: hidden;padding: 0;position: absolute;width: 1px;}#sk-container-id-5 div.sk-estimator {font-family: monospace;background-color: #f0f8ff;border: 1px dotted black;border-radius: 0.25em;box-sizing: border-box;margin-bottom: 0.5em;}#sk-container-id-5 div.sk-estimator:hover {background-color: #d4ebff;}#sk-container-id-5 div.sk-parallel-item::after {content: \"\";width: 100%;border-bottom: 1px solid gray;flex-grow: 1;}#sk-container-id-5 div.sk-label:hover label.sk-toggleable__label {background-color: #d4ebff;}#sk-container-id-5 div.sk-serial::before {content: \"\";position: absolute;border-left: 1px solid gray;box-sizing: border-box;top: 0;bottom: 0;left: 50%;z-index: 0;}#sk-container-id-5 div.sk-serial {display: flex;flex-direction: column;align-items: center;background-color: white;padding-right: 0.2em;padding-left: 0.2em;position: relative;}#sk-container-id-5 div.sk-item {position: relative;z-index: 1;}#sk-container-id-5 div.sk-parallel {display: flex;align-items: stretch;justify-content: center;background-color: white;position: relative;}#sk-container-id-5 div.sk-item::before, #sk-container-id-5 div.sk-parallel-item::before {content: \"\";position: absolute;border-left: 1px solid gray;box-sizing: border-box;top: 0;bottom: 0;left: 50%;z-index: -1;}#sk-container-id-5 div.sk-parallel-item {display: flex;flex-direction: column;z-index: 1;position: relative;background-color: white;}#sk-container-id-5 div.sk-parallel-item:first-child::after {align-self: flex-end;width: 50%;}#sk-container-id-5 div.sk-parallel-item:last-child::after {align-self: flex-start;width: 50%;}#sk-container-id-5 div.sk-parallel-item:only-child::after {width: 0;}#sk-container-id-5 div.sk-dashed-wrapped {border: 1px dashed gray;margin: 0 0.4em 0.5em 0.4em;box-sizing: border-box;padding-bottom: 0.4em;background-color: white;}#sk-container-id-5 div.sk-label label {font-family: monospace;font-weight: bold;display: inline-block;line-height: 1.2em;}#sk-container-id-5 div.sk-label-container {text-align: center;}#sk-container-id-5 div.sk-container {/* jupyter's `normalize.less` sets `[hidden] { display: none; }` but bootstrap.min.css set `[hidden] { display: none !important; }` so we also need the `!important` here to be able to override the default hidden behavior on the sphinx rendered scikit-learn.org. See: https://github.com/scikit-learn/scikit-learn/issues/21755 */display: inline-block !important;position: relative;}#sk-container-id-5 div.sk-text-repr-fallback {display: none;}</style><div id=\"sk-container-id-5\" class=\"sk-top-container\"><div class=\"sk-text-repr-fallback\"><pre>KMeans(n_clusters=10)</pre><b>In a Jupyter environment, please rerun this cell to show the HTML representation or trust the notebook. <br />On GitHub, the HTML representation is unable to render, please try loading this page with nbviewer.org.</b></div><div class=\"sk-container\" hidden><div class=\"sk-item\"><div class=\"sk-estimator sk-toggleable\"><input class=\"sk-toggleable__control sk-hidden--visually\" id=\"sk-estimator-id-5\" type=\"checkbox\" checked><label for=\"sk-estimator-id-5\" class=\"sk-toggleable__label sk-toggleable__label-arrow\">KMeans</label><div class=\"sk-toggleable__content\"><pre>KMeans(n_clusters=10)</pre></div></div></div></div></div>"
            ]
          },
          "metadata": {},
          "execution_count": 31
        }
      ]
    },
    {
      "cell_type": "code",
      "source": [
        "netflix_data['Cluster'] = kmeans_netflix.labels_\n"
      ],
      "metadata": {
        "id": "aEiMiCs7qmuC"
      },
      "execution_count": 30,
      "outputs": []
    },
    {
      "cell_type": "code",
      "source": [
        "prime_data['Cluster'] = kmeans_prime.labels_\n"
      ],
      "metadata": {
        "id": "uYYmZ3GlrUnL"
      },
      "execution_count": 32,
      "outputs": []
    },
    {
      "cell_type": "code",
      "source": [
        "netflix_cluster_genres = netflix_data.groupby('Cluster')['Genre'].apply(lambda x: pd.Series(x.str.split(',').explode().str.strip().value_counts().index[:10]))\n",
        "netflix_cluster_genres = netflix_cluster_genres.reset_index().drop('level_1', axis=1)\n"
      ],
      "metadata": {
        "id": "CzHRmJ_-reiN"
      },
      "execution_count": 34,
      "outputs": []
    },
    {
      "cell_type": "code",
      "source": [
        "prime_cluster_genres = prime_data.groupby('Cluster')['Genre'].apply(lambda x: pd.Series(x.str.split(',').explode().str.strip().value_counts().index[:10]))\n",
        "prime_cluster_genres = prime_cluster_genres.reset_index().drop('level_1', axis=1)\n"
      ],
      "metadata": {
        "id": "RkxuOMrWruOT"
      },
      "execution_count": 35,
      "outputs": []
    },
    {
      "cell_type": "code",
      "source": [
        "# Display the top movies and a single genre in each cluster for the Netflix dataset\n",
        "for cluster_num in range(10):\n",
        "    cluster_movies = netflix_data[netflix_data['Cluster'] == cluster_num]\n",
        "    genre_counts = cluster_movies['Genre'].str.split(',').explode().str.strip().value_counts()\n",
        "    top_movies = cluster_movies[cluster_movies['Genre'].str.contains('|'.join(genre_counts[:10].index), na=False)]\n",
        "    cluster_genre = genre_counts.idxmax() if not genre_counts.empty else 'N/A'\n",
        "    print(f'Cluster {cluster_num}:')\n",
        "    print('Genre:', cluster_genre)\n",
        "    print('Top Movies:')\n",
        "    print(top_movies['Title'])\n",
        "    print('\\n')\n",
        "\n",
        "# Display the top movies and a single genre in each cluster for the Amazon Prime dataset\n",
        "for cluster_num in range(10):\n",
        "    cluster_movies = prime_data[prime_data['Cluster'] == cluster_num]\n",
        "    genre_counts = cluster_movies['Genre'].str.split(',').explode().str.strip().value_counts()\n",
        "    top_movies = cluster_movies[cluster_movies['Genre'].str.contains('|'.join(genre_counts[:10].index), na=False)]\n",
        "    cluster_genre = genre_counts.idxmax() if not genre_counts.empty else 'N/A'\n",
        "    print(f'Cluster {cluster_num}:')\n",
        "    print('Genre:', cluster_genre)\n",
        "    print('Top Movies:')\n",
        "    print(top_movies['Title'])\n",
        "    print('\\n')\n"
      ],
      "metadata": {
        "colab": {
          "base_uri": "https://localhost:8080/"
        },
        "id": "GndfmCqVvv5s",
        "outputId": "39f7a5b4-cb2e-4659-f78a-c41e37c4f8f6"
      },
      "execution_count": 48,
      "outputs": [
        {
          "output_type": "stream",
          "name": "stdout",
          "text": [
            "Cluster 0:\n",
            "Genre: Family\n",
            "Top Movies:\n",
            "3                                           Moxie\n",
            "7                                    Sunes Summer\n",
            "14                               Harrys Daughters\n",
            "18                    Girls und Panzer das Finale\n",
            "33                                Dilili in Paris\n",
            "                           ...                   \n",
            "10156       The Lord of the Rings: The Two Towers\n",
            "10157                             Stuart Little 2\n",
            "10166                           A Haunted House 2\n",
            "10171                                A 2nd Chance\n",
            "10182    The Twilight Saga: Breaking Dawn: Part 1\n",
            "Name: Title, Length: 1154, dtype: object\n",
            "\n",
            "\n",
            "Cluster 1:\n",
            "Genre: Action\n",
            "Top Movies:\n",
            "50                             Snatch Up\n",
            "51                                 Stray\n",
            "61                        Golden Slumber\n",
            "62                           Extreme Job\n",
            "64                           Criticsized\n",
            "                      ...               \n",
            "10161                        Bad Boys II\n",
            "10169    Never Back Down 2: The Beatdown\n",
            "10176                       3:10 to Yuma\n",
            "10183                  One for the Money\n",
            "10186             District 13: Ultimatum\n",
            "Name: Title, Length: 1225, dtype: object\n",
            "\n",
            "\n",
            "Cluster 2:\n",
            "Genre: Comedy\n",
            "Top Movies:\n",
            "1                       HOW TO BUILD A GIRL\n",
            "6                                Snowroller\n",
            "10                    The Stig-Helmer Story\n",
            "19                          Indoo Ki Jawani\n",
            "21                               The Closet\n",
            "                        ...                \n",
            "10121             Instructions Not Included\n",
            "10123                          American Pie\n",
            "10174    Chelsea Peretti: One of the Greats\n",
            "10180                              Year One\n",
            "10190           Daniel Arends: Blessuretijd\n",
            "Name: Title, Length: 1486, dtype: object\n",
            "\n",
            "\n",
            "Cluster 3:\n",
            "Genre: Drama\n",
            "Top Movies:\n",
            "11             To Kill a Child\n",
            "23             No Longer Human\n",
            "32               Trial by Fire\n",
            "34        Life and Nothing But\n",
            "35       Let Joy Reign Supreme\n",
            "                 ...          \n",
            "10136                 Rocky IV\n",
            "10143                Rocky III\n",
            "10158                 Rocky II\n",
            "10160                 Ip Man 2\n",
            "10181               One Chance\n",
            "Name: Title, Length: 914, dtype: object\n",
            "\n",
            "\n",
            "Cluster 4:\n",
            "Genre: Romance\n",
            "Top Movies:\n",
            "4                                         The Con-Heartist\n",
            "20                           Comrades: Almost a Love Story\n",
            "30                                         Floating Clouds\n",
            "31                            Restart After Come Back Home\n",
            "40                                                   Alice\n",
            "                               ...                        \n",
            "10164                                   Sex and the City 2\n",
            "10165             The Twilight Saga: Breaking Dawn: Part 2\n",
            "10167    InuYasha: The Movie 2: The Castle Beyond the L...\n",
            "10178                                       50 First Dates\n",
            "10187                                       13 Going on 30\n",
            "Name: Title, Length: 1499, dtype: object\n",
            "\n",
            "\n",
            "Cluster 5:\n",
            "Genre: Documentary\n",
            "Top Movies:\n",
            "38                                  Framing John DeLorean\n",
            "86             Made You Look: A True Story About Fake Art\n",
            "89                                         The Mole Agent\n",
            "96                                             Collective\n",
            "109                                            Overcoming\n",
            "                               ...                       \n",
            "10132                     Hank: Five Years from the Brink\n",
            "10172    The Other One: The Long Strange Trip of Bob Weir\n",
            "10177                           One Direction: This Is Us\n",
            "10188                                            LIFE 2.0\n",
            "10189                                       Brand New Day\n",
            "Name: Title, Length: 585, dtype: object\n",
            "\n",
            "\n",
            "Cluster 6:\n",
            "Genre: Drama\n",
            "Top Movies:\n",
            "5                                        Only a Mother\n",
            "9                           The Simple Minded Murderer\n",
            "17                                                1939\n",
            "24                                              Repast\n",
            "26                     When a Woman Ascends the Stairs\n",
            "                             ...                      \n",
            "9948            Divine Secrets of the Ya-Ya Sisterhood\n",
            "9973                                     Gods Not Dead\n",
            "10041    Precious: Based on the Novel Push by Sapphire\n",
            "10093                               American History X\n",
            "10129                                     Seven Pounds\n",
            "Name: Title, Length: 772, dtype: object\n",
            "\n",
            "\n",
            "Cluster 7:\n",
            "Genre: Sci-Fi\n",
            "Top Movies:\n",
            "13                                                       I\n",
            "22                                          The Mysterians\n",
            "28                                                  Gorath\n",
            "37                                      Valley of the Gods\n",
            "39                                        Critters Attack!\n",
            "                               ...                        \n",
            "10146                                Spy Kids 3: Game Over\n",
            "10154                                              Blade 2\n",
            "10163                Spy Kids 2: The Island of Lost Dreams\n",
            "10168    Teenage Mutant Ninja Turtles II: The Secret of...\n",
            "10173                                                 2012\n",
            "Name: Title, Length: 780, dtype: object\n",
            "\n",
            "\n",
            "Cluster 8:\n",
            "Genre: Horror\n",
            "Top Movies:\n",
            "0               Lets Fight Ghost\n",
            "45                Outdoor Begins\n",
            "60       Gonjiam: Haunted Asylum\n",
            "71                  12 Feet Deep\n",
            "87             Il signor Diavolo\n",
            "                  ...           \n",
            "10144              Scary Movie 3\n",
            "10147                     Sadako\n",
            "10159               The Grudge 2\n",
            "10162              Scary Movie 2\n",
            "10170                   Sadako 2\n",
            "Name: Title, Length: 704, dtype: object\n",
            "\n",
            "\n",
            "Cluster 9:\n",
            "Genre: Thriller\n",
            "Top Movies:\n",
            "2               Centigrade\n",
            "8            The Invisible\n",
            "12                   Joker\n",
            "15          False As Water\n",
            "16       A Guest Is Coming\n",
            "               ...        \n",
            "10128                Seven\n",
            "10175               Oct-01\n",
            "10179                   21\n",
            "10184              4.3.2.1\n",
            "10185                   13\n",
            "Name: Title, Length: 1057, dtype: object\n",
            "\n",
            "\n",
            "Cluster 0:\n",
            "Genre: Action\n",
            "Top Movies:\n",
            "2       Secrets of Deception\n",
            "8            Global Meltdown\n",
            "44            Women of Valor\n",
            "49                 Winterset\n",
            "51                      Wind\n",
            "                ...         \n",
            "6908         A Perfect Enemy\n",
            "6921      The Princess Bride\n",
            "6944      Anaganaga Oka Nenu\n",
            "6950                 Outpost\n",
            "6951             Harry Brown\n",
            "Name: Title, Length: 1088, dtype: object\n",
            "\n",
            "\n",
            "Cluster 1:\n",
            "Genre: Comedy\n",
            "Top Movies:\n",
            "0                              The Grand Seduction\n",
            "15                                      Summer '03\n",
            "18                                    Zis Boom Bah\n",
            "22                                 You, Me and Him\n",
            "89                                          Walter\n",
            "                           ...                    \n",
            "6896    Haikara-San: Here Comes Miss Modern Part 1\n",
            "6914                               We Bought A Zoo\n",
            "6934                                   Marley & Me\n",
            "6935                            Love & Other Drugs\n",
            "6936                          Little Miss Sunshine\n",
            "Name: Title, Length: 443, dtype: object\n",
            "\n",
            "\n",
            "Cluster 2:\n",
            "Genre: Horror\n",
            "Top Movies:\n",
            "12         The Night Eats The World\n",
            "16                         Zoombies\n",
            "82      We Need to Talk About Kevin\n",
            "114                  Valentine DayZ\n",
            "131                         Uncaged\n",
            "                   ...             \n",
            "6892            Klown Kamp Massacre\n",
            "6895           Happy Little Bunnies\n",
            "6909            A Little Bit Zombie\n",
            "6918                The Shadow Side\n",
            "6943                   Dard Divorce\n",
            "Name: Title, Length: 780, dtype: object\n",
            "\n",
            "\n",
            "Cluster 3:\n",
            "Genre: Drama\n",
            "Top Movies:\n",
            "1          Take Care Good Night\n",
            "9                David's Mother\n",
            "19                     Zandalee\n",
            "20                 Young Lovers\n",
            "21               You're Not You\n",
            "                 ...           \n",
            "6926        Thalaivii (Kannada)\n",
            "6931                       Oven\n",
            "6932    No Sleep 'Til Christmas\n",
            "6940            I Can't Breathe\n",
            "6948                      River\n",
            "Name: Title, Length: 1544, dtype: object\n",
            "\n",
            "\n",
            "Cluster 4:\n",
            "Genre: Comedy\n",
            "Top Movies:\n",
            "7                                            Grease Live!\n",
            "11                                              Take Care\n",
            "46                                      Woke Up Like This\n",
            "53      William Lee Martin: The Nutcracker - A Christm...\n",
            "54             William Lee Martin: Standing in the Middle\n",
            "                              ...                        \n",
            "6933                            Meet the Spartans (Uncut)\n",
            "6939                                                 Jack\n",
            "6942                            Date Night (Extended Cut)\n",
            "6947                                   The Man in the Hat\n",
            "6949                                  Pride Of The Bowery\n",
            "Name: Title, Length: 841, dtype: object\n",
            "\n",
            "\n",
            "Cluster 5:\n",
            "Genre: Kids\n",
            "Top Movies:\n",
            "4                            Monster Maker\n",
            "5                    Living With Dinosaurs\n",
            "17                                     Zoe\n",
            "23             Yoga with Sound Meditations\n",
            "24      Yoga to Harness Your Chakra Energy\n",
            "                       ...                \n",
            "6876                            The Shadow\n",
            "6894                  John Tucker Must Die\n",
            "6910                     A Girl Like Grace\n",
            "6927                            Snow White\n",
            "6938                           Judge Dredd\n",
            "Name: Title, Length: 716, dtype: object\n",
            "\n",
            "\n",
            "Cluster 6:\n",
            "Genre: Documentary\n",
            "Top Movies:\n",
            "3                      Pink: Staying True\n",
            "6                               Hired Gun\n",
            "13                             Resilencia\n",
            "14      Elon Musk: The Real Life Iron Man\n",
            "41           Wrangler: Anatomy of an Icon\n",
            "                      ...                \n",
            "6816                  Legend of a Warrior\n",
            "6839                   The Lumineers: III\n",
            "6880                    Surviving America\n",
            "6941                      Famo$o (4K UHD)\n",
            "6945                 A Place at the Table\n",
            "Name: Title, Length: 489, dtype: object\n",
            "\n",
            "\n",
            "Cluster 7:\n",
            "Genre: Romance\n",
            "Top Movies:\n",
            "81                   We'll Take Manhattan\n",
            "94                        Waiting for You\n",
            "106                      Violets Are Blue\n",
            "142                        Turning Tables\n",
            "158                        Traci Townsend\n",
            "                      ...                \n",
            "6903                   Chinna Chinni Asha\n",
            "6907                    Ardha Shathabdham\n",
            "6911                            Wild Fire\n",
            "6929    Pretty Woman (Plus Bonus Content)\n",
            "6946           10 Things I Hate About You\n",
            "Name: Title, Length: 564, dtype: object\n",
            "\n",
            "\n",
            "Cluster 8:\n",
            "Genre: Adventure\n",
            "Top Movies:\n",
            "10                         Forest Fairies\n",
            "75                      What Comes Around\n",
            "156                         Trading Paint\n",
            "167           Tomorrow When The War Began\n",
            "189                                Ticker\n",
            "                      ...                \n",
            "6854                   Goldeneye (4K UHD)\n",
            "6858             Die Another Day (4K UHD)\n",
            "6861                         Dead Serious\n",
            "6928                     Shanghai Knights\n",
            "6937    Knight and Day (Extended Edition)\n",
            "Name: Title, Length: 212, dtype: object\n",
            "\n",
            "\n",
            "Cluster 9:\n",
            "Genre: Western\n",
            "Top Movies:\n",
            "36                               Yellowneck\n",
            "50                   Winds Of The Wasteland\n",
            "76                             Western Gold\n",
            "91                       Wall Street Cowboy\n",
            "126                     Under Western Stars\n",
            "                       ...                 \n",
            "6663                            Savage Land\n",
            "6671    Outlaws: The Legend of O.B. Taggart\n",
            "6780                    Honor Among Thieves\n",
            "6792                       Cheyenne Wildcat\n",
            "6900                      Doc West - Part 1\n",
            "Name: Title, Length: 217, dtype: object\n",
            "\n",
            "\n"
          ]
        }
      ]
    }
  ]
}